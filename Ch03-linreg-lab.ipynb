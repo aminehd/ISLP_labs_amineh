{
  "cells": [
    {
      "cell_type": "markdown",
      "metadata": {
        "id": "view-in-github",
        "colab_type": "text"
      },
      "source": [
        "<a href=\"https://colab.research.google.com/github/aminehd/ISLP_labs_amineh/blob/main/Ch03-linreg-lab.ipynb\" target=\"_parent\"><img src=\"https://colab.research.google.com/assets/colab-badge.svg\" alt=\"Open In Colab\"/></a>"
      ]
    },
    {
      "cell_type": "markdown",
      "id": "cfd81b34",
      "metadata": {
        "id": "cfd81b34"
      },
      "source": [
        "\n",
        "# Chapter 3"
      ]
    },
    {
      "cell_type": "markdown",
      "id": "52e6256f",
      "metadata": {
        "id": "52e6256f"
      },
      "source": [
        "# Lab: Linear Regression\n",
        "\n",
        "## Importing packages\n",
        "We import our standard libraries at this top\n",
        "level."
      ]
    },
    {
      "cell_type": "code",
      "source": [
        "!pip install ISLP\n"
      ],
      "metadata": {
        "id": "FPyResl0sbg3",
        "outputId": "2094d4f4-b630-4618-cfe7-684022cf9abe",
        "colab": {
          "base_uri": "https://localhost:8080/"
        }
      },
      "id": "FPyResl0sbg3",
      "execution_count": 1,
      "outputs": [
        {
          "output_type": "stream",
          "name": "stdout",
          "text": [
            "Collecting ISLP\n",
            "  Downloading ISLP-0.4.0-py3-none-any.whl (3.6 MB)\n",
            "\u001b[2K     \u001b[90m━━━━━━━━━━━━━━━━━━━━━━━━━━━━━━━━━━━━━━━━\u001b[0m \u001b[32m3.6/3.6 MB\u001b[0m \u001b[31m18.8 MB/s\u001b[0m eta \u001b[36m0:00:00\u001b[0m\n",
            "\u001b[?25hRequirement already satisfied: numpy>=1.7.1 in /usr/local/lib/python3.10/dist-packages (from ISLP) (1.25.2)\n",
            "Requirement already satisfied: scipy>=0.9 in /usr/local/lib/python3.10/dist-packages (from ISLP) (1.11.4)\n",
            "Requirement already satisfied: pandas>=0.20 in /usr/local/lib/python3.10/dist-packages (from ISLP) (2.0.3)\n",
            "Requirement already satisfied: lxml in /usr/local/lib/python3.10/dist-packages (from ISLP) (4.9.4)\n",
            "Requirement already satisfied: scikit-learn>=1.2 in /usr/local/lib/python3.10/dist-packages (from ISLP) (1.2.2)\n",
            "Requirement already satisfied: joblib in /usr/local/lib/python3.10/dist-packages (from ISLP) (1.4.2)\n",
            "Requirement already satisfied: statsmodels>=0.13 in /usr/local/lib/python3.10/dist-packages (from ISLP) (0.14.2)\n",
            "Collecting lifelines (from ISLP)\n",
            "  Downloading lifelines-0.28.0-py3-none-any.whl (349 kB)\n",
            "\u001b[2K     \u001b[90m━━━━━━━━━━━━━━━━━━━━━━━━━━━━━━━━━━━━━━━━\u001b[0m \u001b[32m349.2/349.2 kB\u001b[0m \u001b[31m6.1 MB/s\u001b[0m eta \u001b[36m0:00:00\u001b[0m\n",
            "\u001b[?25hCollecting pygam (from ISLP)\n",
            "  Downloading pygam-0.9.1-py3-none-any.whl (522 kB)\n",
            "\u001b[2K     \u001b[90m━━━━━━━━━━━━━━━━━━━━━━━━━━━━━━━━━━━━━━━━\u001b[0m \u001b[32m522.0/522.0 kB\u001b[0m \u001b[31m29.8 MB/s\u001b[0m eta \u001b[36m0:00:00\u001b[0m\n",
            "\u001b[?25hRequirement already satisfied: torch in /usr/local/lib/python3.10/dist-packages (from ISLP) (2.3.0+cu121)\n",
            "Collecting pytorch-lightning (from ISLP)\n",
            "  Downloading pytorch_lightning-2.2.5-py3-none-any.whl (802 kB)\n",
            "\u001b[2K     \u001b[90m━━━━━━━━━━━━━━━━━━━━━━━━━━━━━━━━━━━━━━━━\u001b[0m \u001b[32m802.3/802.3 kB\u001b[0m \u001b[31m18.4 MB/s\u001b[0m eta \u001b[36m0:00:00\u001b[0m\n",
            "\u001b[?25hCollecting torchmetrics (from ISLP)\n",
            "  Downloading torchmetrics-1.4.0.post0-py3-none-any.whl (868 kB)\n",
            "\u001b[2K     \u001b[90m━━━━━━━━━━━━━━━━━━━━━━━━━━━━━━━━━━━━━━━━\u001b[0m \u001b[32m868.8/868.8 kB\u001b[0m \u001b[31m17.2 MB/s\u001b[0m eta \u001b[36m0:00:00\u001b[0m\n",
            "\u001b[?25hRequirement already satisfied: python-dateutil>=2.8.2 in /usr/local/lib/python3.10/dist-packages (from pandas>=0.20->ISLP) (2.8.2)\n",
            "Requirement already satisfied: pytz>=2020.1 in /usr/local/lib/python3.10/dist-packages (from pandas>=0.20->ISLP) (2023.4)\n",
            "Requirement already satisfied: tzdata>=2022.1 in /usr/local/lib/python3.10/dist-packages (from pandas>=0.20->ISLP) (2024.1)\n",
            "Requirement already satisfied: threadpoolctl>=2.0.0 in /usr/local/lib/python3.10/dist-packages (from scikit-learn>=1.2->ISLP) (3.5.0)\n",
            "Requirement already satisfied: patsy>=0.5.6 in /usr/local/lib/python3.10/dist-packages (from statsmodels>=0.13->ISLP) (0.5.6)\n",
            "Requirement already satisfied: packaging>=21.3 in /usr/local/lib/python3.10/dist-packages (from statsmodels>=0.13->ISLP) (24.0)\n",
            "Requirement already satisfied: matplotlib>=3.0 in /usr/local/lib/python3.10/dist-packages (from lifelines->ISLP) (3.7.1)\n",
            "Requirement already satisfied: autograd>=1.5 in /usr/local/lib/python3.10/dist-packages (from lifelines->ISLP) (1.6.2)\n",
            "Collecting autograd-gamma>=0.3 (from lifelines->ISLP)\n",
            "  Downloading autograd-gamma-0.5.0.tar.gz (4.0 kB)\n",
            "  Preparing metadata (setup.py) ... \u001b[?25l\u001b[?25hdone\n",
            "Collecting formulaic>=0.2.2 (from lifelines->ISLP)\n",
            "  Downloading formulaic-1.0.1-py3-none-any.whl (94 kB)\n",
            "\u001b[2K     \u001b[90m━━━━━━━━━━━━━━━━━━━━━━━━━━━━━━━━━━━━━━━━\u001b[0m \u001b[32m94.2/94.2 kB\u001b[0m \u001b[31m5.2 MB/s\u001b[0m eta \u001b[36m0:00:00\u001b[0m\n",
            "\u001b[?25hRequirement already satisfied: progressbar2<5.0.0,>=4.2.0 in /usr/local/lib/python3.10/dist-packages (from pygam->ISLP) (4.2.0)\n",
            "Requirement already satisfied: tqdm>=4.57.0 in /usr/local/lib/python3.10/dist-packages (from pytorch-lightning->ISLP) (4.66.4)\n",
            "Requirement already satisfied: PyYAML>=5.4 in /usr/local/lib/python3.10/dist-packages (from pytorch-lightning->ISLP) (6.0.1)\n",
            "Requirement already satisfied: fsspec[http]>=2022.5.0 in /usr/local/lib/python3.10/dist-packages (from pytorch-lightning->ISLP) (2023.6.0)\n",
            "Requirement already satisfied: typing-extensions>=4.4.0 in /usr/local/lib/python3.10/dist-packages (from pytorch-lightning->ISLP) (4.12.1)\n",
            "Collecting lightning-utilities>=0.8.0 (from pytorch-lightning->ISLP)\n",
            "  Downloading lightning_utilities-0.11.2-py3-none-any.whl (26 kB)\n",
            "Requirement already satisfied: filelock in /usr/local/lib/python3.10/dist-packages (from torch->ISLP) (3.14.0)\n",
            "Requirement already satisfied: sympy in /usr/local/lib/python3.10/dist-packages (from torch->ISLP) (1.12.1)\n",
            "Requirement already satisfied: networkx in /usr/local/lib/python3.10/dist-packages (from torch->ISLP) (3.3)\n",
            "Requirement already satisfied: jinja2 in /usr/local/lib/python3.10/dist-packages (from torch->ISLP) (3.1.4)\n",
            "Collecting nvidia-cuda-nvrtc-cu12==12.1.105 (from torch->ISLP)\n",
            "  Using cached nvidia_cuda_nvrtc_cu12-12.1.105-py3-none-manylinux1_x86_64.whl (23.7 MB)\n",
            "Collecting nvidia-cuda-runtime-cu12==12.1.105 (from torch->ISLP)\n",
            "  Using cached nvidia_cuda_runtime_cu12-12.1.105-py3-none-manylinux1_x86_64.whl (823 kB)\n",
            "Collecting nvidia-cuda-cupti-cu12==12.1.105 (from torch->ISLP)\n",
            "  Using cached nvidia_cuda_cupti_cu12-12.1.105-py3-none-manylinux1_x86_64.whl (14.1 MB)\n",
            "Collecting nvidia-cudnn-cu12==8.9.2.26 (from torch->ISLP)\n",
            "  Using cached nvidia_cudnn_cu12-8.9.2.26-py3-none-manylinux1_x86_64.whl (731.7 MB)\n",
            "Collecting nvidia-cublas-cu12==12.1.3.1 (from torch->ISLP)\n",
            "  Using cached nvidia_cublas_cu12-12.1.3.1-py3-none-manylinux1_x86_64.whl (410.6 MB)\n",
            "Collecting nvidia-cufft-cu12==11.0.2.54 (from torch->ISLP)\n",
            "  Using cached nvidia_cufft_cu12-11.0.2.54-py3-none-manylinux1_x86_64.whl (121.6 MB)\n",
            "Collecting nvidia-curand-cu12==10.3.2.106 (from torch->ISLP)\n",
            "  Using cached nvidia_curand_cu12-10.3.2.106-py3-none-manylinux1_x86_64.whl (56.5 MB)\n",
            "Collecting nvidia-cusolver-cu12==11.4.5.107 (from torch->ISLP)\n",
            "  Using cached nvidia_cusolver_cu12-11.4.5.107-py3-none-manylinux1_x86_64.whl (124.2 MB)\n",
            "Collecting nvidia-cusparse-cu12==12.1.0.106 (from torch->ISLP)\n",
            "  Using cached nvidia_cusparse_cu12-12.1.0.106-py3-none-manylinux1_x86_64.whl (196.0 MB)\n",
            "Collecting nvidia-nccl-cu12==2.20.5 (from torch->ISLP)\n",
            "  Using cached nvidia_nccl_cu12-2.20.5-py3-none-manylinux2014_x86_64.whl (176.2 MB)\n",
            "Collecting nvidia-nvtx-cu12==12.1.105 (from torch->ISLP)\n",
            "  Using cached nvidia_nvtx_cu12-12.1.105-py3-none-manylinux1_x86_64.whl (99 kB)\n",
            "Requirement already satisfied: triton==2.3.0 in /usr/local/lib/python3.10/dist-packages (from torch->ISLP) (2.3.0)\n",
            "Collecting nvidia-nvjitlink-cu12 (from nvidia-cusolver-cu12==11.4.5.107->torch->ISLP)\n",
            "  Downloading nvidia_nvjitlink_cu12-12.5.40-py3-none-manylinux2014_x86_64.whl (21.3 MB)\n",
            "\u001b[2K     \u001b[90m━━━━━━━━━━━━━━━━━━━━━━━━━━━━━━━━━━━━━━━━\u001b[0m \u001b[32m21.3/21.3 MB\u001b[0m \u001b[31m63.5 MB/s\u001b[0m eta \u001b[36m0:00:00\u001b[0m\n",
            "\u001b[?25hRequirement already satisfied: future>=0.15.2 in /usr/local/lib/python3.10/dist-packages (from autograd>=1.5->lifelines->ISLP) (0.18.3)\n",
            "Collecting interface-meta>=1.2.0 (from formulaic>=0.2.2->lifelines->ISLP)\n",
            "  Downloading interface_meta-1.3.0-py3-none-any.whl (14 kB)\n",
            "Requirement already satisfied: wrapt>=1.0 in /usr/local/lib/python3.10/dist-packages (from formulaic>=0.2.2->lifelines->ISLP) (1.14.1)\n",
            "Requirement already satisfied: requests in /usr/local/lib/python3.10/dist-packages (from fsspec[http]>=2022.5.0->pytorch-lightning->ISLP) (2.31.0)\n",
            "Requirement already satisfied: aiohttp!=4.0.0a0,!=4.0.0a1 in /usr/local/lib/python3.10/dist-packages (from fsspec[http]>=2022.5.0->pytorch-lightning->ISLP) (3.9.5)\n",
            "Requirement already satisfied: setuptools in /usr/local/lib/python3.10/dist-packages (from lightning-utilities>=0.8.0->pytorch-lightning->ISLP) (67.7.2)\n",
            "Requirement already satisfied: contourpy>=1.0.1 in /usr/local/lib/python3.10/dist-packages (from matplotlib>=3.0->lifelines->ISLP) (1.2.1)\n",
            "Requirement already satisfied: cycler>=0.10 in /usr/local/lib/python3.10/dist-packages (from matplotlib>=3.0->lifelines->ISLP) (0.12.1)\n",
            "Requirement already satisfied: fonttools>=4.22.0 in /usr/local/lib/python3.10/dist-packages (from matplotlib>=3.0->lifelines->ISLP) (4.53.0)\n",
            "Requirement already satisfied: kiwisolver>=1.0.1 in /usr/local/lib/python3.10/dist-packages (from matplotlib>=3.0->lifelines->ISLP) (1.4.5)\n",
            "Requirement already satisfied: pillow>=6.2.0 in /usr/local/lib/python3.10/dist-packages (from matplotlib>=3.0->lifelines->ISLP) (9.4.0)\n",
            "Requirement already satisfied: pyparsing>=2.3.1 in /usr/local/lib/python3.10/dist-packages (from matplotlib>=3.0->lifelines->ISLP) (3.1.2)\n",
            "Requirement already satisfied: six in /usr/local/lib/python3.10/dist-packages (from patsy>=0.5.6->statsmodels>=0.13->ISLP) (1.16.0)\n",
            "Requirement already satisfied: python-utils>=3.0.0 in /usr/local/lib/python3.10/dist-packages (from progressbar2<5.0.0,>=4.2.0->pygam->ISLP) (3.8.2)\n",
            "Requirement already satisfied: MarkupSafe>=2.0 in /usr/local/lib/python3.10/dist-packages (from jinja2->torch->ISLP) (2.1.5)\n",
            "Requirement already satisfied: mpmath<1.4.0,>=1.1.0 in /usr/local/lib/python3.10/dist-packages (from sympy->torch->ISLP) (1.3.0)\n",
            "Requirement already satisfied: aiosignal>=1.1.2 in /usr/local/lib/python3.10/dist-packages (from aiohttp!=4.0.0a0,!=4.0.0a1->fsspec[http]>=2022.5.0->pytorch-lightning->ISLP) (1.3.1)\n",
            "Requirement already satisfied: attrs>=17.3.0 in /usr/local/lib/python3.10/dist-packages (from aiohttp!=4.0.0a0,!=4.0.0a1->fsspec[http]>=2022.5.0->pytorch-lightning->ISLP) (23.2.0)\n",
            "Requirement already satisfied: frozenlist>=1.1.1 in /usr/local/lib/python3.10/dist-packages (from aiohttp!=4.0.0a0,!=4.0.0a1->fsspec[http]>=2022.5.0->pytorch-lightning->ISLP) (1.4.1)\n",
            "Requirement already satisfied: multidict<7.0,>=4.5 in /usr/local/lib/python3.10/dist-packages (from aiohttp!=4.0.0a0,!=4.0.0a1->fsspec[http]>=2022.5.0->pytorch-lightning->ISLP) (6.0.5)\n",
            "Requirement already satisfied: yarl<2.0,>=1.0 in /usr/local/lib/python3.10/dist-packages (from aiohttp!=4.0.0a0,!=4.0.0a1->fsspec[http]>=2022.5.0->pytorch-lightning->ISLP) (1.9.4)\n",
            "Requirement already satisfied: async-timeout<5.0,>=4.0 in /usr/local/lib/python3.10/dist-packages (from aiohttp!=4.0.0a0,!=4.0.0a1->fsspec[http]>=2022.5.0->pytorch-lightning->ISLP) (4.0.3)\n",
            "Requirement already satisfied: charset-normalizer<4,>=2 in /usr/local/lib/python3.10/dist-packages (from requests->fsspec[http]>=2022.5.0->pytorch-lightning->ISLP) (3.3.2)\n",
            "Requirement already satisfied: idna<4,>=2.5 in /usr/local/lib/python3.10/dist-packages (from requests->fsspec[http]>=2022.5.0->pytorch-lightning->ISLP) (3.7)\n",
            "Requirement already satisfied: urllib3<3,>=1.21.1 in /usr/local/lib/python3.10/dist-packages (from requests->fsspec[http]>=2022.5.0->pytorch-lightning->ISLP) (2.0.7)\n",
            "Requirement already satisfied: certifi>=2017.4.17 in /usr/local/lib/python3.10/dist-packages (from requests->fsspec[http]>=2022.5.0->pytorch-lightning->ISLP) (2024.6.2)\n",
            "Building wheels for collected packages: autograd-gamma\n",
            "  Building wheel for autograd-gamma (setup.py) ... \u001b[?25l\u001b[?25hdone\n",
            "  Created wheel for autograd-gamma: filename=autograd_gamma-0.5.0-py3-none-any.whl size=4030 sha256=4312695fc02542a0e7da7ad25dab109e65610ff42ce7d7b1e8e885e46154de21\n",
            "  Stored in directory: /root/.cache/pip/wheels/25/cc/e0/ef2969164144c899fedb22b338f6703e2b9cf46eeebf254991\n",
            "Successfully built autograd-gamma\n",
            "Installing collected packages: nvidia-nvtx-cu12, nvidia-nvjitlink-cu12, nvidia-nccl-cu12, nvidia-curand-cu12, nvidia-cufft-cu12, nvidia-cuda-runtime-cu12, nvidia-cuda-nvrtc-cu12, nvidia-cuda-cupti-cu12, nvidia-cublas-cu12, lightning-utilities, interface-meta, nvidia-cusparse-cu12, nvidia-cudnn-cu12, autograd-gamma, pygam, nvidia-cusolver-cu12, formulaic, lifelines, torchmetrics, pytorch-lightning, ISLP\n",
            "Successfully installed ISLP-0.4.0 autograd-gamma-0.5.0 formulaic-1.0.1 interface-meta-1.3.0 lifelines-0.28.0 lightning-utilities-0.11.2 nvidia-cublas-cu12-12.1.3.1 nvidia-cuda-cupti-cu12-12.1.105 nvidia-cuda-nvrtc-cu12-12.1.105 nvidia-cuda-runtime-cu12-12.1.105 nvidia-cudnn-cu12-8.9.2.26 nvidia-cufft-cu12-11.0.2.54 nvidia-curand-cu12-10.3.2.106 nvidia-cusolver-cu12-11.4.5.107 nvidia-cusparse-cu12-12.1.0.106 nvidia-nccl-cu12-2.20.5 nvidia-nvjitlink-cu12-12.5.40 nvidia-nvtx-cu12-12.1.105 pygam-0.9.1 pytorch-lightning-2.2.5 torchmetrics-1.4.0.post0\n"
          ]
        }
      ]
    },
    {
      "cell_type": "code",
      "execution_count": 2,
      "id": "b18c1628",
      "metadata": {
        "execution": {},
        "lines_to_next_cell": 2,
        "id": "b18c1628"
      },
      "outputs": [],
      "source": [
        "import numpy as np\n",
        "import pandas as pd\n",
        "from matplotlib.pyplot import subplots\n"
      ]
    },
    {
      "cell_type": "markdown",
      "id": "735a61a6",
      "metadata": {
        "id": "735a61a6"
      },
      "source": [
        "### New imports\n",
        "Throughout this lab we will introduce new functions and libraries. However,\n",
        "we will import them here to emphasize these are the new\n",
        "code objects in this lab. Keeping imports near the top\n",
        "of a notebook makes the code more readable, since scanning the first few\n",
        "lines tells us what libraries are used."
      ]
    },
    {
      "cell_type": "code",
      "execution_count": 3,
      "id": "a10a1d7d",
      "metadata": {
        "execution": {},
        "lines_to_next_cell": 0,
        "id": "a10a1d7d"
      },
      "outputs": [],
      "source": [
        "import statsmodels.api as sm\n"
      ]
    },
    {
      "cell_type": "markdown",
      "id": "4c10ec5f",
      "metadata": {
        "id": "4c10ec5f"
      },
      "source": [
        " We will provide relevant details about the\n",
        "functions below as they are needed.\n",
        "\n",
        "Besides importing whole modules, it is also possible\n",
        "to import only a few items from a given module. This\n",
        "will help keep the  *namespace* clean.\n",
        "We will use a few specific objects from the `statsmodels` package\n",
        "which we import here."
      ]
    },
    {
      "cell_type": "code",
      "execution_count": 4,
      "id": "756c0524",
      "metadata": {
        "execution": {},
        "id": "756c0524"
      },
      "outputs": [],
      "source": [
        "from statsmodels.stats.outliers_influence \\\n",
        "     import variance_inflation_factor as VIF\n",
        "from statsmodels.stats.anova import anova_lm\n"
      ]
    },
    {
      "cell_type": "markdown",
      "id": "686eb4ee",
      "metadata": {
        "id": "686eb4ee"
      },
      "source": [
        "As one of the import statements above is quite a long line, we inserted a line break `\\` to\n",
        "ease readability.\n",
        "\n",
        "We will also use some functions written for the labs in this book in the `ISLP`\n",
        "package."
      ]
    },
    {
      "cell_type": "code",
      "execution_count": 5,
      "id": "2c370a6e",
      "metadata": {
        "execution": {},
        "id": "2c370a6e"
      },
      "outputs": [],
      "source": [
        "from ISLP import load_data\n",
        "from ISLP.models import (ModelSpec as MS,\n",
        "                         summarize,\n",
        "                         poly)\n"
      ]
    },
    {
      "cell_type": "markdown",
      "source": [],
      "metadata": {
        "id": "ZfToU7t1saaa"
      },
      "id": "ZfToU7t1saaa"
    },
    {
      "cell_type": "markdown",
      "id": "163af4a1",
      "metadata": {
        "id": "163af4a1"
      },
      "source": [
        "### Inspecting Objects and Namespaces\n",
        "The\n",
        "function  `dir()`\n",
        "provides a list of\n",
        "objects in a namespace."
      ]
    },
    {
      "cell_type": "code",
      "execution_count": 6,
      "id": "43bcb3a9",
      "metadata": {
        "execution": {},
        "lines_to_next_cell": 0,
        "id": "43bcb3a9",
        "outputId": "fd653f42-0c08-4979-a232-df9f88bcfc7a",
        "colab": {
          "base_uri": "https://localhost:8080/"
        }
      },
      "outputs": [
        {
          "output_type": "execute_result",
          "data": {
            "text/plain": [
              "['In',\n",
              " 'MS',\n",
              " 'Out',\n",
              " 'VIF',\n",
              " '_',\n",
              " '__',\n",
              " '___',\n",
              " '__builtin__',\n",
              " '__builtins__',\n",
              " '__doc__',\n",
              " '__loader__',\n",
              " '__name__',\n",
              " '__package__',\n",
              " '__spec__',\n",
              " '_dh',\n",
              " '_exit_code',\n",
              " '_i',\n",
              " '_i1',\n",
              " '_i2',\n",
              " '_i3',\n",
              " '_i4',\n",
              " '_i5',\n",
              " '_i6',\n",
              " '_ih',\n",
              " '_ii',\n",
              " '_iii',\n",
              " '_oh',\n",
              " 'anova_lm',\n",
              " 'exit',\n",
              " 'get_ipython',\n",
              " 'load_data',\n",
              " 'np',\n",
              " 'pd',\n",
              " 'poly',\n",
              " 'quit',\n",
              " 'sm',\n",
              " 'subplots',\n",
              " 'summarize']"
            ]
          },
          "metadata": {},
          "execution_count": 6
        }
      ],
      "source": [
        "dir()\n"
      ]
    },
    {
      "cell_type": "markdown",
      "id": "3d936b00",
      "metadata": {
        "id": "3d936b00"
      },
      "source": [
        " This shows you everything that `Python` can find at the top level.\n",
        "There are certain objects like `__builtins__` that contain references to built-in\n",
        "functions like `print()`.\n",
        "\n",
        "Every python object has its own notion of\n",
        "namespace, also accessible with `dir()`. This will include\n",
        "both the attributes of the object\n",
        "as well as any methods associated with it. For instance, we see `'sum'` in the listing for an\n",
        "array."
      ]
    },
    {
      "cell_type": "code",
      "execution_count": 7,
      "id": "cb81bfb0",
      "metadata": {
        "execution": {},
        "lines_to_next_cell": 0,
        "id": "cb81bfb0",
        "outputId": "bc5baee5-da44-4ef7-e8ad-54bab3ff34ba",
        "colab": {
          "base_uri": "https://localhost:8080/"
        }
      },
      "outputs": [
        {
          "output_type": "execute_result",
          "data": {
            "text/plain": [
              "['T',\n",
              " '__abs__',\n",
              " '__add__',\n",
              " '__and__',\n",
              " '__array__',\n",
              " '__array_finalize__',\n",
              " '__array_function__',\n",
              " '__array_interface__',\n",
              " '__array_prepare__',\n",
              " '__array_priority__',\n",
              " '__array_struct__',\n",
              " '__array_ufunc__',\n",
              " '__array_wrap__',\n",
              " '__bool__',\n",
              " '__class__',\n",
              " '__class_getitem__',\n",
              " '__complex__',\n",
              " '__contains__',\n",
              " '__copy__',\n",
              " '__deepcopy__',\n",
              " '__delattr__',\n",
              " '__delitem__',\n",
              " '__dir__',\n",
              " '__divmod__',\n",
              " '__dlpack__',\n",
              " '__dlpack_device__',\n",
              " '__doc__',\n",
              " '__eq__',\n",
              " '__float__',\n",
              " '__floordiv__',\n",
              " '__format__',\n",
              " '__ge__',\n",
              " '__getattribute__',\n",
              " '__getitem__',\n",
              " '__gt__',\n",
              " '__hash__',\n",
              " '__iadd__',\n",
              " '__iand__',\n",
              " '__ifloordiv__',\n",
              " '__ilshift__',\n",
              " '__imatmul__',\n",
              " '__imod__',\n",
              " '__imul__',\n",
              " '__index__',\n",
              " '__init__',\n",
              " '__init_subclass__',\n",
              " '__int__',\n",
              " '__invert__',\n",
              " '__ior__',\n",
              " '__ipow__',\n",
              " '__irshift__',\n",
              " '__isub__',\n",
              " '__iter__',\n",
              " '__itruediv__',\n",
              " '__ixor__',\n",
              " '__le__',\n",
              " '__len__',\n",
              " '__lshift__',\n",
              " '__lt__',\n",
              " '__matmul__',\n",
              " '__mod__',\n",
              " '__mul__',\n",
              " '__ne__',\n",
              " '__neg__',\n",
              " '__new__',\n",
              " '__or__',\n",
              " '__pos__',\n",
              " '__pow__',\n",
              " '__radd__',\n",
              " '__rand__',\n",
              " '__rdivmod__',\n",
              " '__reduce__',\n",
              " '__reduce_ex__',\n",
              " '__repr__',\n",
              " '__rfloordiv__',\n",
              " '__rlshift__',\n",
              " '__rmatmul__',\n",
              " '__rmod__',\n",
              " '__rmul__',\n",
              " '__ror__',\n",
              " '__rpow__',\n",
              " '__rrshift__',\n",
              " '__rshift__',\n",
              " '__rsub__',\n",
              " '__rtruediv__',\n",
              " '__rxor__',\n",
              " '__setattr__',\n",
              " '__setitem__',\n",
              " '__setstate__',\n",
              " '__sizeof__',\n",
              " '__str__',\n",
              " '__sub__',\n",
              " '__subclasshook__',\n",
              " '__truediv__',\n",
              " '__xor__',\n",
              " 'all',\n",
              " 'any',\n",
              " 'argmax',\n",
              " 'argmin',\n",
              " 'argpartition',\n",
              " 'argsort',\n",
              " 'astype',\n",
              " 'base',\n",
              " 'byteswap',\n",
              " 'choose',\n",
              " 'clip',\n",
              " 'compress',\n",
              " 'conj',\n",
              " 'conjugate',\n",
              " 'copy',\n",
              " 'ctypes',\n",
              " 'cumprod',\n",
              " 'cumsum',\n",
              " 'data',\n",
              " 'diagonal',\n",
              " 'dot',\n",
              " 'dtype',\n",
              " 'dump',\n",
              " 'dumps',\n",
              " 'fill',\n",
              " 'flags',\n",
              " 'flat',\n",
              " 'flatten',\n",
              " 'getfield',\n",
              " 'imag',\n",
              " 'item',\n",
              " 'itemset',\n",
              " 'itemsize',\n",
              " 'max',\n",
              " 'mean',\n",
              " 'min',\n",
              " 'nbytes',\n",
              " 'ndim',\n",
              " 'newbyteorder',\n",
              " 'nonzero',\n",
              " 'partition',\n",
              " 'prod',\n",
              " 'ptp',\n",
              " 'put',\n",
              " 'ravel',\n",
              " 'real',\n",
              " 'repeat',\n",
              " 'reshape',\n",
              " 'resize',\n",
              " 'round',\n",
              " 'searchsorted',\n",
              " 'setfield',\n",
              " 'setflags',\n",
              " 'shape',\n",
              " 'size',\n",
              " 'sort',\n",
              " 'squeeze',\n",
              " 'std',\n",
              " 'strides',\n",
              " 'sum',\n",
              " 'swapaxes',\n",
              " 'take',\n",
              " 'tobytes',\n",
              " 'tofile',\n",
              " 'tolist',\n",
              " 'tostring',\n",
              " 'trace',\n",
              " 'transpose',\n",
              " 'var',\n",
              " 'view']"
            ]
          },
          "metadata": {},
          "execution_count": 7
        }
      ],
      "source": [
        "A = np.array([3,5,11])\n",
        "dir(A)\n"
      ]
    },
    {
      "cell_type": "markdown",
      "id": "c5693cc8",
      "metadata": {
        "id": "c5693cc8"
      },
      "source": [
        " This indicates that the object `A.sum` exists. In this case it is a method\n",
        "that can be used to compute the sum of the array `A` as can be seen by typing `A.sum?`."
      ]
    },
    {
      "cell_type": "code",
      "execution_count": 8,
      "id": "29e9bdab",
      "metadata": {
        "execution": {},
        "lines_to_next_cell": 0,
        "id": "29e9bdab",
        "outputId": "7bb46f35-bd31-4696-9237-a378a4497dff",
        "colab": {
          "base_uri": "https://localhost:8080/"
        }
      },
      "outputs": [
        {
          "output_type": "execute_result",
          "data": {
            "text/plain": [
              "19"
            ]
          },
          "metadata": {},
          "execution_count": 8
        }
      ],
      "source": [
        "A.sum()\n"
      ]
    },
    {
      "cell_type": "markdown",
      "id": "d000df26",
      "metadata": {
        "id": "d000df26"
      },
      "source": [
        "    "
      ]
    },
    {
      "cell_type": "markdown",
      "id": "2fff2f42",
      "metadata": {
        "id": "2fff2f42"
      },
      "source": [
        "## Simple Linear Regression\n",
        "In this section we will  construct model\n",
        "matrices (also called design matrices) using the `ModelSpec()`  transform from `ISLP.models`.\n",
        "\n",
        "We  will use the `Boston` housing data set, which is contained in the `ISLP` package.  The `Boston` dataset records  `medv`  (median house value) for $506$ neighborhoods\n",
        "around Boston.  We will build a regression model to predict  `medv`  using $13$\n",
        "predictors such as  `rmvar`  (average number of rooms per house),\n",
        " `age`  (proportion of owner-occupied units built prior to 1940), and  `lstat`  (percent of\n",
        "households with low socioeconomic status).  We will use `statsmodels` for this\n",
        "task, a `Python` package that implements several commonly used\n",
        "regression methods.\n",
        "\n",
        "We have included a simple loading function `load_data()` in the\n",
        "`ISLP` package:"
      ]
    },
    {
      "cell_type": "code",
      "execution_count": 9,
      "id": "72a15de5",
      "metadata": {
        "execution": {},
        "colab": {
          "base_uri": "https://localhost:8080/"
        },
        "id": "72a15de5",
        "outputId": "afe22f42-f126-4382-c18b-de0f7d9e6f93"
      },
      "outputs": [
        {
          "output_type": "execute_result",
          "data": {
            "text/plain": [
              "Index(['crim', 'zn', 'indus', 'chas', 'nox', 'rm', 'age', 'dis', 'rad', 'tax',\n",
              "       'ptratio', 'lstat', 'medv'],\n",
              "      dtype='object')"
            ]
          },
          "metadata": {},
          "execution_count": 9
        }
      ],
      "source": [
        "Boston = load_data(\"Boston\")\n",
        "Boston.columns\n"
      ]
    },
    {
      "cell_type": "code",
      "source": [
        "model = sm.OLS(Boston['medv'], X)\n",
        "model?\n",
        "dir(model)"
      ],
      "metadata": {
        "id": "BV5hXw3Jjmfc",
        "outputId": "3dbb8665-bf94-4f8b-951f-f0fe9b21844c",
        "colab": {
          "base_uri": "https://localhost:8080/",
          "height": 176
        }
      },
      "id": "BV5hXw3Jjmfc",
      "execution_count": 10,
      "outputs": [
        {
          "output_type": "error",
          "ename": "NameError",
          "evalue": "name 'X' is not defined",
          "traceback": [
            "\u001b[0;31m---------------------------------------------------------------------------\u001b[0m",
            "\u001b[0;31mNameError\u001b[0m                                 Traceback (most recent call last)",
            "\u001b[0;32m<ipython-input-10-5a4be1b35145>\u001b[0m in \u001b[0;36m<cell line: 1>\u001b[0;34m()\u001b[0m\n\u001b[0;32m----> 1\u001b[0;31m \u001b[0mmodel\u001b[0m \u001b[0;34m=\u001b[0m \u001b[0msm\u001b[0m\u001b[0;34m.\u001b[0m\u001b[0mOLS\u001b[0m\u001b[0;34m(\u001b[0m\u001b[0mBoston\u001b[0m\u001b[0;34m[\u001b[0m\u001b[0;34m'medv'\u001b[0m\u001b[0;34m]\u001b[0m\u001b[0;34m,\u001b[0m \u001b[0mX\u001b[0m\u001b[0;34m)\u001b[0m\u001b[0;34m\u001b[0m\u001b[0;34m\u001b[0m\u001b[0m\n\u001b[0m\u001b[1;32m      2\u001b[0m \u001b[0mget_ipython\u001b[0m\u001b[0;34m(\u001b[0m\u001b[0;34m)\u001b[0m\u001b[0;34m.\u001b[0m\u001b[0mrun_line_magic\u001b[0m\u001b[0;34m(\u001b[0m\u001b[0;34m'pinfo'\u001b[0m\u001b[0;34m,\u001b[0m \u001b[0;34m'model'\u001b[0m\u001b[0;34m)\u001b[0m\u001b[0;34m\u001b[0m\u001b[0;34m\u001b[0m\u001b[0m\n\u001b[1;32m      3\u001b[0m \u001b[0mdir\u001b[0m\u001b[0;34m(\u001b[0m\u001b[0mmodel\u001b[0m\u001b[0;34m)\u001b[0m\u001b[0;34m\u001b[0m\u001b[0;34m\u001b[0m\u001b[0m\n",
            "\u001b[0;31mNameError\u001b[0m: name 'X' is not defined"
          ]
        }
      ]
    },
    {
      "cell_type": "code",
      "source": [
        "import statsmodels.api as sm\n",
        "y = Boston['medv']\n",
        "model = sm.OLS(y, X)\n",
        "\n",
        "results = model.fit()\n",
        "summarize(results)\n"
      ],
      "metadata": {
        "id": "3C9DpyYSvUGn"
      },
      "id": "3C9DpyYSvUGn",
      "execution_count": null,
      "outputs": []
    },
    {
      "cell_type": "code",
      "source": [
        "design = MS(['lstat'])\n",
        "design = design.fit(Boston)\n",
        "X = design.transform(Boston)\n",
        "print(f'{len(X)=} and {len(Boston)=}')\n"
      ],
      "metadata": {
        "id": "lZ1rDU5wtfNc"
      },
      "id": "lZ1rDU5wtfNc",
      "execution_count": null,
      "outputs": []
    },
    {
      "cell_type": "code",
      "source": [
        "model = sm.OLS(Boston['medv'], X)\n",
        "model?\n",
        "results = model.fit()\n",
        "summarize(results) # summerize from ISLP\n",
        "# results.summary()\n",
        "## type of the model is OLS\n"
      ],
      "metadata": {
        "id": "VPt4oTxKlACN"
      },
      "id": "VPt4oTxKlACN",
      "execution_count": null,
      "outputs": []
    },
    {
      "cell_type": "code",
      "source": [
        "## use result object to get predictions\n",
        "input = pd.DataFrame({'lstat': [5, 10, 90]})\n",
        "newX = design.fit_transform(input)\n",
        "newX"
      ],
      "metadata": {
        "id": "_b_O9mYDmBiV"
      },
      "id": "_b_O9mYDmBiV",
      "execution_count": null,
      "outputs": []
    },
    {
      "cell_type": "code",
      "source": [
        "# use result object and new X to get predictions\n",
        "new_pred = results.get_prediction(newX)\n",
        "print(f'{results.params=}')\n",
        "print(f'{new_pred.predicted_mean=}')\n",
        "print(f'{new_pred.conf_int(alpha=0.05)=}')\n",
        "\n",
        "design?\n",
        "model?\n",
        "results?\n",
        "# new_pred?"
      ],
      "metadata": {
        "id": "G2xWHOH-kn7n"
      },
      "id": "G2xWHOH-kn7n",
      "execution_count": null,
      "outputs": []
    },
    {
      "cell_type": "code",
      "source": [
        "# next, creat X's you wanna predict y for and use get_predictions and confiterval\n",
        "results?\n",
        "results.get_prediction?"
      ],
      "metadata": {
        "id": "FJFbDBbEv7aB"
      },
      "id": "FJFbDBbEv7aB",
      "execution_count": null,
      "outputs": []
    },
    {
      "cell_type": "markdown",
      "id": "d4fefb35",
      "metadata": {
        "id": "d4fefb35"
      },
      "source": [
        "Type `Boston?` to find out more about these data.\n",
        "\n",
        "We start by using the `sm.OLS()`  function to fit a\n",
        "simple linear regression model.  Our response will be\n",
        " `medv`  and  `lstat`  will be the single predictor.\n",
        "For this model, we can create the model matrix by hand.\n"
      ]
    },
    {
      "cell_type": "code",
      "execution_count": null,
      "id": "26837cfe",
      "metadata": {
        "execution": {},
        "id": "26837cfe"
      },
      "outputs": [],
      "source": [
        "X = pd.DataFrame({'intercept': np.ones(Boston.shape[0]),\n",
        "                  'lstat': Boston['lstat']})\n",
        "X[:4]\n"
      ]
    },
    {
      "cell_type": "markdown",
      "id": "73cb41ca",
      "metadata": {
        "id": "73cb41ca"
      },
      "source": [
        "We extract the response, and fit the model."
      ]
    },
    {
      "cell_type": "code",
      "execution_count": null,
      "id": "c70cbdb5",
      "metadata": {
        "execution": {},
        "lines_to_next_cell": 0,
        "id": "c70cbdb5"
      },
      "outputs": [],
      "source": [
        "y = Boston['medv']\n",
        "model = sm.OLS(y, X)\n",
        "results = model.fit()\n"
      ]
    },
    {
      "cell_type": "markdown",
      "id": "e87fbd51",
      "metadata": {
        "id": "e87fbd51"
      },
      "source": [
        "Note that `sm.OLS()` does\n",
        "not fit the model; it specifies the model, and then `model.fit()` does the actual fitting.  \n",
        "\n",
        "Our `ISLP` function `summarize()` produces a simple table of the parameter estimates,\n",
        "their standard errors, t-statistics and p-values.\n",
        "The function takes a single argument, such as the object `results`\n",
        "returned here by the `fit`\n",
        "method, and returns such a summary."
      ]
    },
    {
      "cell_type": "code",
      "execution_count": null,
      "id": "6f2d7c78",
      "metadata": {
        "execution": {},
        "lines_to_next_cell": 2,
        "id": "6f2d7c78"
      },
      "outputs": [],
      "source": [
        "summarize(results)\n"
      ]
    },
    {
      "cell_type": "markdown",
      "id": "cf6f045c",
      "metadata": {
        "id": "cf6f045c"
      },
      "source": [
        "Before we describe other methods for working with fitted models, we outline a more useful and general framework for constructing a model matrix~`X`.\n",
        "### Using Transformations: Fit and Transform\n",
        "Our model above has a single predictor, and constructing `X` was straightforward.\n",
        "In practice  we often fit models with more than one predictor, typically selected from an array or data frame.\n",
        "We may wish to introduce transformations to the variables before fitting the model, specify interactions between variables, and expand some particular variables into sets of variables (e.g. polynomials).\n",
        "The `sklearn`  package has a particular notion\n",
        "for this type of task: a *transform*. A transform is an object\n",
        "that is created with some parameters as arguments. The\n",
        "object has two main methods: `fit()` and `transform()`.\n",
        "\n",
        "We provide a general approach for specifying models and constructing\n",
        "the model matrix through the transform `ModelSpec()` in the `ISLP` library.\n",
        "`ModelSpec()`\n",
        "(renamed `MS()` in the preamble) creates a\n",
        "transform object, and then a pair of methods\n",
        "`transform()` and `fit()` are used to construct a\n",
        "corresponding model matrix.\n",
        "\n",
        "We first describe this process for our simple regression model  using a single predictor `lstat` in\n",
        "the `Boston` data frame, but will use it repeatedly in more\n",
        "complex tasks in this and other labs in this book.\n",
        "In our case the transform is created by the expression\n",
        "`design = MS(['lstat'])`.\n",
        "\n",
        "The `fit()`  method takes the original array and may do some\n",
        "initial computations on it, as specified in the transform object.\n",
        "For example, it may compute means and standard deviations for centering and scaling.\n",
        "The `transform()`\n",
        "method applies the fitted transformation to the array of data, and produces the model matrix.\n"
      ]
    },
    {
      "cell_type": "code",
      "execution_count": 12,
      "id": "cdec4294",
      "metadata": {
        "execution": {},
        "lines_to_next_cell": 0,
        "id": "cdec4294"
      },
      "outputs": [],
      "source": [
        "design = MS(['lstat'])\n",
        "design = design.fit(Boston)\n",
        "X = design.transform(Boston)\n",
        "X[:4]\n",
        "# design? ModelSpec"
      ]
    },
    {
      "cell_type": "markdown",
      "id": "1de3a91e",
      "metadata": {
        "id": "1de3a91e"
      },
      "source": [
        "In this simple case, the `fit()`  method does very little; it simply checks that the variable `'lstat'` specified in `design` exists in `Boston`. Then `transform()` constructs the model matrix with two columns: an `intercept` and the variable `lstat`.\n",
        "\n",
        "These two operations can be  combined with the\n",
        "`fit_transform()`  method."
      ]
    },
    {
      "cell_type": "code",
      "execution_count": 13,
      "id": "edf2efcb",
      "metadata": {
        "execution": {},
        "lines_to_next_cell": 0,
        "id": "edf2efcb",
        "outputId": "0011fde4-c37d-437c-cb6f-4a59ccc7d431",
        "colab": {
          "base_uri": "https://localhost:8080/",
          "height": 175
        }
      },
      "outputs": [
        {
          "output_type": "execute_result",
          "data": {
            "text/plain": [
              "   intercept  lstat\n",
              "0        1.0   4.98\n",
              "1        1.0   9.14\n",
              "2        1.0   4.03\n",
              "3        1.0   2.94"
            ],
            "text/html": [
              "\n",
              "  <div id=\"df-9115eb95-07ef-4c57-9aa3-7bf0c0f260c5\" class=\"colab-df-container\">\n",
              "    <div>\n",
              "<style scoped>\n",
              "    .dataframe tbody tr th:only-of-type {\n",
              "        vertical-align: middle;\n",
              "    }\n",
              "\n",
              "    .dataframe tbody tr th {\n",
              "        vertical-align: top;\n",
              "    }\n",
              "\n",
              "    .dataframe thead th {\n",
              "        text-align: right;\n",
              "    }\n",
              "</style>\n",
              "<table border=\"1\" class=\"dataframe\">\n",
              "  <thead>\n",
              "    <tr style=\"text-align: right;\">\n",
              "      <th></th>\n",
              "      <th>intercept</th>\n",
              "      <th>lstat</th>\n",
              "    </tr>\n",
              "  </thead>\n",
              "  <tbody>\n",
              "    <tr>\n",
              "      <th>0</th>\n",
              "      <td>1.0</td>\n",
              "      <td>4.98</td>\n",
              "    </tr>\n",
              "    <tr>\n",
              "      <th>1</th>\n",
              "      <td>1.0</td>\n",
              "      <td>9.14</td>\n",
              "    </tr>\n",
              "    <tr>\n",
              "      <th>2</th>\n",
              "      <td>1.0</td>\n",
              "      <td>4.03</td>\n",
              "    </tr>\n",
              "    <tr>\n",
              "      <th>3</th>\n",
              "      <td>1.0</td>\n",
              "      <td>2.94</td>\n",
              "    </tr>\n",
              "  </tbody>\n",
              "</table>\n",
              "</div>\n",
              "    <div class=\"colab-df-buttons\">\n",
              "\n",
              "  <div class=\"colab-df-container\">\n",
              "    <button class=\"colab-df-convert\" onclick=\"convertToInteractive('df-9115eb95-07ef-4c57-9aa3-7bf0c0f260c5')\"\n",
              "            title=\"Convert this dataframe to an interactive table.\"\n",
              "            style=\"display:none;\">\n",
              "\n",
              "  <svg xmlns=\"http://www.w3.org/2000/svg\" height=\"24px\" viewBox=\"0 -960 960 960\">\n",
              "    <path d=\"M120-120v-720h720v720H120Zm60-500h600v-160H180v160Zm220 220h160v-160H400v160Zm0 220h160v-160H400v160ZM180-400h160v-160H180v160Zm440 0h160v-160H620v160ZM180-180h160v-160H180v160Zm440 0h160v-160H620v160Z\"/>\n",
              "  </svg>\n",
              "    </button>\n",
              "\n",
              "  <style>\n",
              "    .colab-df-container {\n",
              "      display:flex;\n",
              "      gap: 12px;\n",
              "    }\n",
              "\n",
              "    .colab-df-convert {\n",
              "      background-color: #E8F0FE;\n",
              "      border: none;\n",
              "      border-radius: 50%;\n",
              "      cursor: pointer;\n",
              "      display: none;\n",
              "      fill: #1967D2;\n",
              "      height: 32px;\n",
              "      padding: 0 0 0 0;\n",
              "      width: 32px;\n",
              "    }\n",
              "\n",
              "    .colab-df-convert:hover {\n",
              "      background-color: #E2EBFA;\n",
              "      box-shadow: 0px 1px 2px rgba(60, 64, 67, 0.3), 0px 1px 3px 1px rgba(60, 64, 67, 0.15);\n",
              "      fill: #174EA6;\n",
              "    }\n",
              "\n",
              "    .colab-df-buttons div {\n",
              "      margin-bottom: 4px;\n",
              "    }\n",
              "\n",
              "    [theme=dark] .colab-df-convert {\n",
              "      background-color: #3B4455;\n",
              "      fill: #D2E3FC;\n",
              "    }\n",
              "\n",
              "    [theme=dark] .colab-df-convert:hover {\n",
              "      background-color: #434B5C;\n",
              "      box-shadow: 0px 1px 3px 1px rgba(0, 0, 0, 0.15);\n",
              "      filter: drop-shadow(0px 1px 2px rgba(0, 0, 0, 0.3));\n",
              "      fill: #FFFFFF;\n",
              "    }\n",
              "  </style>\n",
              "\n",
              "    <script>\n",
              "      const buttonEl =\n",
              "        document.querySelector('#df-9115eb95-07ef-4c57-9aa3-7bf0c0f260c5 button.colab-df-convert');\n",
              "      buttonEl.style.display =\n",
              "        google.colab.kernel.accessAllowed ? 'block' : 'none';\n",
              "\n",
              "      async function convertToInteractive(key) {\n",
              "        const element = document.querySelector('#df-9115eb95-07ef-4c57-9aa3-7bf0c0f260c5');\n",
              "        const dataTable =\n",
              "          await google.colab.kernel.invokeFunction('convertToInteractive',\n",
              "                                                    [key], {});\n",
              "        if (!dataTable) return;\n",
              "\n",
              "        const docLinkHtml = 'Like what you see? Visit the ' +\n",
              "          '<a target=\"_blank\" href=https://colab.research.google.com/notebooks/data_table.ipynb>data table notebook</a>'\n",
              "          + ' to learn more about interactive tables.';\n",
              "        element.innerHTML = '';\n",
              "        dataTable['output_type'] = 'display_data';\n",
              "        await google.colab.output.renderOutput(dataTable, element);\n",
              "        const docLink = document.createElement('div');\n",
              "        docLink.innerHTML = docLinkHtml;\n",
              "        element.appendChild(docLink);\n",
              "      }\n",
              "    </script>\n",
              "  </div>\n",
              "\n",
              "\n",
              "<div id=\"df-cbf59bcb-1722-431a-ac06-95aa434f6c00\">\n",
              "  <button class=\"colab-df-quickchart\" onclick=\"quickchart('df-cbf59bcb-1722-431a-ac06-95aa434f6c00')\"\n",
              "            title=\"Suggest charts\"\n",
              "            style=\"display:none;\">\n",
              "\n",
              "<svg xmlns=\"http://www.w3.org/2000/svg\" height=\"24px\"viewBox=\"0 0 24 24\"\n",
              "     width=\"24px\">\n",
              "    <g>\n",
              "        <path d=\"M19 3H5c-1.1 0-2 .9-2 2v14c0 1.1.9 2 2 2h14c1.1 0 2-.9 2-2V5c0-1.1-.9-2-2-2zM9 17H7v-7h2v7zm4 0h-2V7h2v10zm4 0h-2v-4h2v4z\"/>\n",
              "    </g>\n",
              "</svg>\n",
              "  </button>\n",
              "\n",
              "<style>\n",
              "  .colab-df-quickchart {\n",
              "      --bg-color: #E8F0FE;\n",
              "      --fill-color: #1967D2;\n",
              "      --hover-bg-color: #E2EBFA;\n",
              "      --hover-fill-color: #174EA6;\n",
              "      --disabled-fill-color: #AAA;\n",
              "      --disabled-bg-color: #DDD;\n",
              "  }\n",
              "\n",
              "  [theme=dark] .colab-df-quickchart {\n",
              "      --bg-color: #3B4455;\n",
              "      --fill-color: #D2E3FC;\n",
              "      --hover-bg-color: #434B5C;\n",
              "      --hover-fill-color: #FFFFFF;\n",
              "      --disabled-bg-color: #3B4455;\n",
              "      --disabled-fill-color: #666;\n",
              "  }\n",
              "\n",
              "  .colab-df-quickchart {\n",
              "    background-color: var(--bg-color);\n",
              "    border: none;\n",
              "    border-radius: 50%;\n",
              "    cursor: pointer;\n",
              "    display: none;\n",
              "    fill: var(--fill-color);\n",
              "    height: 32px;\n",
              "    padding: 0;\n",
              "    width: 32px;\n",
              "  }\n",
              "\n",
              "  .colab-df-quickchart:hover {\n",
              "    background-color: var(--hover-bg-color);\n",
              "    box-shadow: 0 1px 2px rgba(60, 64, 67, 0.3), 0 1px 3px 1px rgba(60, 64, 67, 0.15);\n",
              "    fill: var(--button-hover-fill-color);\n",
              "  }\n",
              "\n",
              "  .colab-df-quickchart-complete:disabled,\n",
              "  .colab-df-quickchart-complete:disabled:hover {\n",
              "    background-color: var(--disabled-bg-color);\n",
              "    fill: var(--disabled-fill-color);\n",
              "    box-shadow: none;\n",
              "  }\n",
              "\n",
              "  .colab-df-spinner {\n",
              "    border: 2px solid var(--fill-color);\n",
              "    border-color: transparent;\n",
              "    border-bottom-color: var(--fill-color);\n",
              "    animation:\n",
              "      spin 1s steps(1) infinite;\n",
              "  }\n",
              "\n",
              "  @keyframes spin {\n",
              "    0% {\n",
              "      border-color: transparent;\n",
              "      border-bottom-color: var(--fill-color);\n",
              "      border-left-color: var(--fill-color);\n",
              "    }\n",
              "    20% {\n",
              "      border-color: transparent;\n",
              "      border-left-color: var(--fill-color);\n",
              "      border-top-color: var(--fill-color);\n",
              "    }\n",
              "    30% {\n",
              "      border-color: transparent;\n",
              "      border-left-color: var(--fill-color);\n",
              "      border-top-color: var(--fill-color);\n",
              "      border-right-color: var(--fill-color);\n",
              "    }\n",
              "    40% {\n",
              "      border-color: transparent;\n",
              "      border-right-color: var(--fill-color);\n",
              "      border-top-color: var(--fill-color);\n",
              "    }\n",
              "    60% {\n",
              "      border-color: transparent;\n",
              "      border-right-color: var(--fill-color);\n",
              "    }\n",
              "    80% {\n",
              "      border-color: transparent;\n",
              "      border-right-color: var(--fill-color);\n",
              "      border-bottom-color: var(--fill-color);\n",
              "    }\n",
              "    90% {\n",
              "      border-color: transparent;\n",
              "      border-bottom-color: var(--fill-color);\n",
              "    }\n",
              "  }\n",
              "</style>\n",
              "\n",
              "  <script>\n",
              "    async function quickchart(key) {\n",
              "      const quickchartButtonEl =\n",
              "        document.querySelector('#' + key + ' button');\n",
              "      quickchartButtonEl.disabled = true;  // To prevent multiple clicks.\n",
              "      quickchartButtonEl.classList.add('colab-df-spinner');\n",
              "      try {\n",
              "        const charts = await google.colab.kernel.invokeFunction(\n",
              "            'suggestCharts', [key], {});\n",
              "      } catch (error) {\n",
              "        console.error('Error during call to suggestCharts:', error);\n",
              "      }\n",
              "      quickchartButtonEl.classList.remove('colab-df-spinner');\n",
              "      quickchartButtonEl.classList.add('colab-df-quickchart-complete');\n",
              "    }\n",
              "    (() => {\n",
              "      let quickchartButtonEl =\n",
              "        document.querySelector('#df-cbf59bcb-1722-431a-ac06-95aa434f6c00 button');\n",
              "      quickchartButtonEl.style.display =\n",
              "        google.colab.kernel.accessAllowed ? 'block' : 'none';\n",
              "    })();\n",
              "  </script>\n",
              "</div>\n",
              "\n",
              "    </div>\n",
              "  </div>\n"
            ],
            "application/vnd.google.colaboratory.intrinsic+json": {
              "type": "dataframe",
              "summary": "{\n  \"name\": \"X[:4]\",\n  \"rows\": 4,\n  \"fields\": [\n    {\n      \"column\": \"intercept\",\n      \"properties\": {\n        \"dtype\": \"number\",\n        \"std\": 0.0,\n        \"min\": 1.0,\n        \"max\": 1.0,\n        \"num_unique_values\": 1,\n        \"samples\": [\n          1.0\n        ],\n        \"semantic_type\": \"\",\n        \"description\": \"\"\n      }\n    },\n    {\n      \"column\": \"lstat\",\n      \"properties\": {\n        \"dtype\": \"number\",\n        \"std\": 2.709703243284524,\n        \"min\": 2.94,\n        \"max\": 9.14,\n        \"num_unique_values\": 4,\n        \"samples\": [\n          9.14\n        ],\n        \"semantic_type\": \"\",\n        \"description\": \"\"\n      }\n    }\n  ]\n}"
            }
          },
          "metadata": {},
          "execution_count": 13
        }
      ],
      "source": [
        "design = MS(['lstat'])\n",
        "X = design.fit_transform(Boston)\n",
        "X[:4]"
      ]
    },
    {
      "cell_type": "markdown",
      "id": "4eab8574",
      "metadata": {
        "id": "4eab8574"
      },
      "source": [
        "Note that, as in the previous code chunk when the two steps were done separately, the `design` object is changed as a result of the `fit()` operation. The power of this pipeline will become clearer when we fit more complex models that involve interactions and transformations."
      ]
    },
    {
      "cell_type": "markdown",
      "id": "7336a90b",
      "metadata": {
        "id": "7336a90b"
      },
      "source": [
        "Let's return to our fitted regression model.\n",
        "The object\n",
        "`results` has several methods that can be used for inference.\n",
        "We already presented a function `summarize()` for showing the essentials of the fit.\n",
        "For a full and somewhat exhaustive summary of the fit, we can use the `summary()`\n",
        "method."
      ]
    },
    {
      "cell_type": "code",
      "execution_count": null,
      "id": "49fc8992",
      "metadata": {
        "execution": {},
        "id": "49fc8992"
      },
      "outputs": [],
      "source": [
        "results.summary()\n"
      ]
    },
    {
      "cell_type": "markdown",
      "id": "cbadf6fb",
      "metadata": {
        "id": "cbadf6fb"
      },
      "source": [
        "The fitted coefficients can also be retrieved as the\n",
        "`params` attribute of `results`."
      ]
    },
    {
      "cell_type": "code",
      "execution_count": null,
      "id": "6d0f4c3a",
      "metadata": {
        "execution": {},
        "lines_to_next_cell": 2,
        "id": "6d0f4c3a"
      },
      "outputs": [],
      "source": [
        "results.params\n"
      ]
    },
    {
      "cell_type": "markdown",
      "id": "f97d477a",
      "metadata": {
        "id": "f97d477a"
      },
      "source": [
        "The `get_prediction()`  method can be used to obtain predictions, and produce confidence intervals and\n",
        "prediction intervals for the prediction of  `medv`  for  given values of  `lstat`.\n",
        "\n",
        "We first create a new data frame, in this case containing only the variable `lstat`, with the values for this variable at which we wish to make predictions.\n",
        "We then use the `transform()` method of `design` to create the corresponding model matrix."
      ]
    },
    {
      "cell_type": "code",
      "execution_count": null,
      "id": "132ffded",
      "metadata": {
        "execution": {},
        "id": "132ffded"
      },
      "outputs": [],
      "source": [
        "new_df = pd.DataFrame({'lstat':[5, 10, 15]})\n",
        "newX = design.transform(new_df)\n",
        "newX\n"
      ]
    },
    {
      "cell_type": "markdown",
      "id": "e99b90dc",
      "metadata": {
        "id": "e99b90dc"
      },
      "source": [
        "Next we compute the predictions at `newX`, and view them by extracting the `predicted_mean` attribute."
      ]
    },
    {
      "cell_type": "code",
      "execution_count": null,
      "id": "b654a050",
      "metadata": {
        "execution": {},
        "lines_to_next_cell": 0,
        "id": "b654a050"
      },
      "outputs": [],
      "source": [
        "new_predictions = results.get_prediction(newX);\n",
        "new_predictions.predicted_mean\n"
      ]
    },
    {
      "cell_type": "markdown",
      "id": "cca6cef5",
      "metadata": {
        "id": "cca6cef5"
      },
      "source": [
        "We can produce confidence intervals for the predicted values."
      ]
    },
    {
      "cell_type": "code",
      "execution_count": null,
      "id": "148ed59d",
      "metadata": {
        "execution": {},
        "lines_to_next_cell": 0,
        "id": "148ed59d"
      },
      "outputs": [],
      "source": [
        "new_predictions.conf_int(alpha=0.05)\n"
      ]
    },
    {
      "cell_type": "markdown",
      "id": "c217e5e2",
      "metadata": {
        "id": "c217e5e2"
      },
      "source": [
        "Prediction intervals are computing by setting `obs=True`:"
      ]
    },
    {
      "cell_type": "code",
      "execution_count": null,
      "id": "d9d7b844",
      "metadata": {
        "execution": {},
        "lines_to_next_cell": 0,
        "id": "d9d7b844"
      },
      "outputs": [],
      "source": [
        "new_predictions.conf_int(obs=True, alpha=0.05)\n"
      ]
    },
    {
      "cell_type": "markdown",
      "id": "a26d3660",
      "metadata": {
        "id": "a26d3660"
      },
      "source": [
        " For instance, the 95% confidence interval associated with an\n",
        " `lstat`  value of 10 is (24.47, 25.63), and the 95% prediction\n",
        "interval is (12.82, 37.28).  As expected, the confidence and\n",
        "prediction intervals are centered around the same point (a predicted\n",
        "value of 25.05 for  `medv`  when  `lstat`  equals\n",
        "10), but the latter are substantially wider.\n",
        "\n",
        "Next we will plot  `medv`  and  `lstat`\n",
        "using `DataFrame.plot.scatter()`, \\definelongblankMR{plot.scatter()}{plot.slashslashscatter()}\n",
        "and wish to\n",
        "add the regression line to the resulting plot."
      ]
    },
    {
      "cell_type": "markdown",
      "id": "50db5bf6",
      "metadata": {
        "id": "50db5bf6"
      },
      "source": [
        "### Defining Functions\n",
        "While there is a function\n",
        "within the `ISLP` package that adds a line to an existing plot, we take this opportunity\n",
        "to define our first function to do so."
      ]
    },
    {
      "cell_type": "code",
      "execution_count": null,
      "id": "79de2913",
      "metadata": {
        "execution": {},
        "lines_to_next_cell": 0,
        "id": "79de2913"
      },
      "outputs": [],
      "source": [
        "def abline(ax, b, m):\n",
        "    \"Add a line with slope m and intercept b to ax\"\n",
        "    xlim = ax.get_xlim()\n",
        "    ylim = [m * xlim[0] + b, m * xlim[1] + b]\n",
        "    ax.plot(xlim, ylim)\n"
      ]
    },
    {
      "cell_type": "markdown",
      "id": "f66dd38d",
      "metadata": {
        "id": "f66dd38d"
      },
      "source": [
        " A few things are illustrated above. First we see the syntax for defining a function:\n",
        "`def funcname(...)`. The function has arguments `ax, b, m`\n",
        "where `ax` is an axis object for an exisiting plot, `b` is the intercept and\n",
        "`m` is the slope of the desired line. Other plotting  options can be passed on to\n",
        "`ax.plot` by including additional optional arguments as follows:"
      ]
    },
    {
      "cell_type": "code",
      "execution_count": null,
      "id": "a9b843c7",
      "metadata": {
        "execution": {},
        "lines_to_next_cell": 0,
        "id": "a9b843c7"
      },
      "outputs": [],
      "source": [
        "def abline(ax, b, m, *args, **kwargs):\n",
        "    \"Add a line with slope m and intercept b to ax\"\n",
        "    xlim = ax.get_xlim()\n",
        "    ylim = [m * xlim[0] + b, m * xlim[1] + b]\n",
        "    ax.plot(xlim, ylim, *args, **kwargs)\n"
      ]
    },
    {
      "cell_type": "markdown",
      "id": "25ba4401",
      "metadata": {
        "id": "25ba4401"
      },
      "source": [
        "The addition of `*args` allows any number of\n",
        "non-named arguments to `abline`, while `*kwargs` allows any\n",
        "number of named arguments (such as `linewidth=3`) to `abline`.\n",
        "In our function, we pass\n",
        "these arguments verbatim to `ax.plot` above. Readers\n",
        "interested in learning more about\n",
        "functions are referred to the section on\n",
        "defining functions in [docs.python.org/tutorial](https://docs.python.org/3/tutorial/controlflow.html#defining-functions).\n",
        "\n",
        "Let’s use our new function to add this regression line to a plot of\n",
        "`medv` vs. `lstat`."
      ]
    },
    {
      "cell_type": "code",
      "execution_count": null,
      "id": "7e116800",
      "metadata": {
        "execution": {},
        "lines_to_next_cell": 0,
        "id": "7e116800"
      },
      "outputs": [],
      "source": [
        "ax = Boston.plot.scatter('lstat', 'medv')\n",
        "abline(ax,\n",
        "       results.params[0],\n",
        "       results.params[1],\n",
        "       'r--',\n",
        "       linewidth=3)\n"
      ]
    },
    {
      "cell_type": "code",
      "source": [
        "dir(results)"
      ],
      "metadata": {
        "id": "yIp3dz4K3g81"
      },
      "id": "yIp3dz4K3g81",
      "execution_count": null,
      "outputs": []
    },
    {
      "cell_type": "markdown",
      "id": "9a3e8b26",
      "metadata": {
        "id": "9a3e8b26"
      },
      "source": [
        "Thus, the final call to `ax.plot()` is `ax.plot(xlim, ylim, 'r--', linewidth=3)`.\n",
        "We have used the argument `'r--'` to produce a red dashed line, and added\n",
        "an argument to make it of width 3.\n",
        "There is some evidence for non-linearity in the relationship between  `lstat`  and  `medv`. We will explore this issue later in this lab.\n",
        "\n",
        "As mentioned above, there is an existing function to add a line to a plot --- `ax.axline()` --- but knowing how to write such functions empowers us to create more expressive displays.\n",
        "\n"
      ]
    },
    {
      "cell_type": "markdown",
      "id": "1d78b981",
      "metadata": {
        "id": "1d78b981"
      },
      "source": [
        "Next we examine some diagnostic plots, several of which were discussed\n",
        "in Section 3.3.3.\n",
        "We can find the fitted values and residuals\n",
        "of the fit as attributes of the `results` object.\n",
        "Various influence measures describing the regression model\n",
        "are computed with the `get_influence()` method.\n",
        "As we will not use the `fig` component returned\n",
        "as the first value from `subplots()`, we simply\n",
        "capture the second returned value in `ax` below."
      ]
    },
    {
      "cell_type": "code",
      "execution_count": null,
      "id": "b524399e",
      "metadata": {
        "execution": {},
        "lines_to_next_cell": 0,
        "id": "b524399e"
      },
      "outputs": [],
      "source": [
        "ax = subplots(figsize=(8,8))[1]\n",
        "ax.scatter(results.fittedvalues, results.resid)\n",
        "ax.set_xlabel('Fitted value')\n",
        "ax.set_ylabel('Residual')\n",
        "ax.axhline(0, c='k', ls='--');\n"
      ]
    },
    {
      "cell_type": "code",
      "source": [
        "# use dir(results) to find cool methods in result and plot it\n",
        "# a i am plotting resituals against fitted values\n",
        "ax = subplots(figsize=(8,8))[1]\n",
        "ax.plot(results.fittedvalues, results.resid, 'o')\n",
        "# what is `get_influence`"
      ],
      "metadata": {
        "id": "Ey35kZUw31sv"
      },
      "id": "Ey35kZUw31sv",
      "execution_count": null,
      "outputs": []
    },
    {
      "cell_type": "code",
      "source": [
        "design = MS(['lstat'])\n",
        "design = design.fit(Boston)\n",
        "dir(design)\n",
        "X = design.transform(Boston)\n",
        "model = sm.OLS(Boston['medv'], X)\n",
        "results = model.fit()"
      ],
      "metadata": {
        "id": "jPuHC4I6nLhq"
      },
      "id": "jPuHC4I6nLhq",
      "execution_count": 19,
      "outputs": []
    },
    {
      "cell_type": "code",
      "source": [
        "# Practice get influence HERE!!!\n",
        "infl = results.get_influence()\n",
        "ax = subplots(figsize=(8,8))[1]\n",
        "ax.scatter(np.arange(X.shape[0]), infl.hat_matrix_diag)\n",
        "dir(infl)"
      ],
      "metadata": {
        "id": "_t24A53EoI3q",
        "outputId": "3793b50d-55b2-4303-a411-1bc72c9938c6",
        "colab": {
          "base_uri": "https://localhost:8080/",
          "height": 1000
        }
      },
      "id": "_t24A53EoI3q",
      "execution_count": 24,
      "outputs": [
        {
          "output_type": "execute_result",
          "data": {
            "text/plain": [
              "['__class__',\n",
              " '__delattr__',\n",
              " '__dict__',\n",
              " '__dir__',\n",
              " '__doc__',\n",
              " '__eq__',\n",
              " '__format__',\n",
              " '__ge__',\n",
              " '__getattribute__',\n",
              " '__gt__',\n",
              " '__hash__',\n",
              " '__init__',\n",
              " '__init_subclass__',\n",
              " '__le__',\n",
              " '__lt__',\n",
              " '__module__',\n",
              " '__ne__',\n",
              " '__new__',\n",
              " '__reduce__',\n",
              " '__reduce_ex__',\n",
              " '__repr__',\n",
              " '__setattr__',\n",
              " '__sizeof__',\n",
              " '__str__',\n",
              " '__subclasshook__',\n",
              " '__weakref__',\n",
              " '_cache',\n",
              " '_get_drop_vari',\n",
              " '_ols_xnoti',\n",
              " '_plot_index',\n",
              " '_res_looo',\n",
              " 'aux_regression_endog',\n",
              " 'aux_regression_exog',\n",
              " 'cooks_distance',\n",
              " 'cov_ratio',\n",
              " 'det_cov_params_not_obsi',\n",
              " 'dfbeta',\n",
              " 'dfbetas',\n",
              " 'dffits',\n",
              " 'dffits_internal',\n",
              " 'endog',\n",
              " 'ess_press',\n",
              " 'exog',\n",
              " 'get_resid_studentized_external',\n",
              " 'hat_diag_factor',\n",
              " 'hat_matrix_diag',\n",
              " 'influence',\n",
              " 'k_vars',\n",
              " 'model_class',\n",
              " 'nobs',\n",
              " 'params_not_obsi',\n",
              " 'plot_index',\n",
              " 'plot_influence',\n",
              " 'resid',\n",
              " 'resid_press',\n",
              " 'resid_std',\n",
              " 'resid_studentized',\n",
              " 'resid_studentized_external',\n",
              " 'resid_studentized_internal',\n",
              " 'resid_var',\n",
              " 'results',\n",
              " 'scale',\n",
              " 'sigma2_not_obsi',\n",
              " 'summary_frame',\n",
              " 'summary_table']"
            ]
          },
          "metadata": {},
          "execution_count": 24
        },
        {
          "output_type": "display_data",
          "data": {
            "text/plain": [
              "<Figure size 800x800 with 1 Axes>"
            ],
            "image/png": "[encoded data removed]"
          },
          "metadata": {}
        }
      ]
    },
    {
      "cell_type": "markdown",
      "id": "590a8be9",
      "metadata": {
        "id": "590a8be9"
      },
      "source": [
        " We add a horizontal line at 0 for reference using the\n",
        " `ax.axhline()`   method, indicating\n",
        "it should be black (`c='k'`) and have a dashed linestyle (`ls='--'`).\n",
        "\n",
        "On the basis of the residual plot, there is some evidence of non-linearity.\n",
        "Leverage statistics can be computed for any number of predictors using the\n",
        "`hat_matrix_diag` attribute of the value returned by the\n",
        "`get_influence()`  method."
      ]
    },
    {
      "cell_type": "code",
      "execution_count": null,
      "id": "8c95b6b0",
      "metadata": {
        "execution": {},
        "lines_to_next_cell": 0,
        "id": "8c95b6b0"
      },
      "outputs": [],
      "source": [
        "infl = results.get_influence()\n",
        "ax = subplots(figsize=(8,8))[1]\n",
        "ax.scatter(np.arange(X.shape[0]), infl.hat_matrix_diag)\n",
        "ax.set_xlabel('Index')\n",
        "ax.set_ylabel('Leverage')\n",
        "np.argmax(infl.hat_matrix_diag)\n"
      ]
    },
    {
      "cell_type": "markdown",
      "id": "7712b1e1",
      "metadata": {
        "id": "7712b1e1"
      },
      "source": [
        " The `np.argmax()`  function identifies the index of the largest element of an array, optionally computed over an axis of the array.\n",
        "In this case, we maximized over the entire array\n",
        "to determine which observation has the largest leverage statistic."
      ]
    },
    {
      "cell_type": "markdown",
      "id": "c17dacc1",
      "metadata": {
        "id": "c17dacc1"
      },
      "source": [
        "## Multiple Linear Regression\n",
        "In order to fit a multiple linear regression model using least squares, we again use\n",
        "the `ModelSpec()`  transform to construct the required\n",
        "model matrix and response. The arguments\n",
        "to `ModelSpec()` can be quite general, but in this case\n",
        "a list of column names suffice. We consider a fit here with\n",
        "the two variables `lstat` and `age`."
      ]
    },
    {
      "cell_type": "code",
      "execution_count": null,
      "id": "04ed8362",
      "metadata": {
        "execution": {},
        "lines_to_next_cell": 0,
        "id": "04ed8362"
      },
      "outputs": [],
      "source": [
        "X = MS(['lstat', 'age']).fit_transform(Boston)\n",
        "model1 = sm.OLS(y, X)\n",
        "results1 = model1.fit()\n",
        "summarize(results1)"
      ]
    },
    {
      "cell_type": "markdown",
      "id": "3af076fd",
      "metadata": {
        "id": "3af076fd"
      },
      "source": [
        "Notice how we have compacted the first line into a succinct expression describing the construction of `X`.\n",
        "\n",
        "The  `Boston`   data set contains 12 variables, and so it would be cumbersome\n",
        "to have to type all of these in order to perform a regression using all of the predictors.\n",
        "Instead, we can use the following short-hand:\\definelongblankMR{columns.drop()}{columns.slashslashdrop()}"
      ]
    },
    {
      "cell_type": "code",
      "execution_count": null,
      "id": "6483e190",
      "metadata": {
        "execution": {},
        "id": "6483e190"
      },
      "outputs": [],
      "source": [
        "terms = Boston.columns.drop('medv')\n",
        "terms\n"
      ]
    },
    {
      "cell_type": "markdown",
      "id": "b79a6810",
      "metadata": {
        "id": "b79a6810"
      },
      "source": [
        "We can now fit the model with all the variables in `terms` using\n",
        "the same model matrix builder."
      ]
    },
    {
      "cell_type": "code",
      "execution_count": null,
      "id": "99a6f9d0",
      "metadata": {
        "execution": {},
        "id": "99a6f9d0"
      },
      "outputs": [],
      "source": [
        "X = MS(terms).fit_transform(Boston)\n",
        "model = sm.OLS(y, X)\n",
        "results = model.fit()\n",
        "summarize(results)\n"
      ]
    },
    {
      "cell_type": "markdown",
      "id": "719d42ae",
      "metadata": {
        "id": "719d42ae"
      },
      "source": [
        "What if we would like to perform a regression using all of the variables but one?  For\n",
        "example, in the above regression output,   `age`  has a high $p$-value.\n",
        "So we may wish to run a regression excluding this predictor.\n",
        "The following syntax results in a regression using all predictors except  `age`."
      ]
    },
    {
      "cell_type": "code",
      "execution_count": null,
      "id": "78cf55d0",
      "metadata": {
        "execution": {},
        "id": "78cf55d0"
      },
      "outputs": [],
      "source": [
        "minus_age = Boston.columns.drop(['medv', 'age'])\n",
        "Xma = MS(minus_age).fit_transform(Boston)\n",
        "model1 = sm.OLS(y, Xma)\n",
        "summarize(model1.fit())\n"
      ]
    },
    {
      "cell_type": "markdown",
      "id": "526a80bc",
      "metadata": {
        "id": "526a80bc"
      },
      "source": [
        "## Multivariate Goodness of Fit\n",
        "We can access the individual components of `results` by name\n",
        "(`dir(results)` shows us what is available). Hence\n",
        "`results.rsquared` gives us the $R^2$,\n",
        "and\n",
        "`np.sqrt(results.scale)` gives us the RSE.\n",
        "\n",
        "Variance inflation factors (section 3.3.3) are sometimes useful\n",
        "to assess the effect of collinearity in the model matrix of a regression model.\n",
        "We will compute the VIFs in our multiple regression fit, and use the opportunity to introduce the idea of *list comprehension*.\n",
        "\n",
        "### List Comprehension\n",
        "Often we encounter a sequence of objects which we would like to transform\n",
        "for some other task. Below, we compute the VIF for each\n",
        "feature in our `X` matrix and produce a data frame\n",
        "whose index agrees with the columns of `X`.\n",
        "The notion of list comprehension can often make such\n",
        "a task easier.\n",
        "\n",
        "List comprehensions are simple and powerful ways to form\n",
        "lists of `Python` objects. The language also supports\n",
        "dictionary and *generator* comprehension, though these are\n",
        "beyond our scope here. Let's look at an example. We compute the VIF for each of the variables\n",
        "in the model matrix `X`, using the function `variance_inflation_factor()`.\n"
      ]
    },
    {
      "cell_type": "code",
      "execution_count": null,
      "id": "902f6474",
      "metadata": {
        "execution": {},
        "lines_to_next_cell": 0,
        "id": "902f6474"
      },
      "outputs": [],
      "source": [
        "vals = [VIF(X, i)\n",
        "        for i in range(1, X.shape[1])]\n",
        "vif = pd.DataFrame({'vif':vals},\n",
        "                   index=X.columns[1:])\n",
        "vif\n"
      ]
    },
    {
      "cell_type": "markdown",
      "id": "2a1567ea",
      "metadata": {
        "id": "2a1567ea"
      },
      "source": [
        "The function `VIF()` takes two arguments: a dataframe or array,\n",
        "and a variable column index. In the code above we call `VIF()` on the fly for all columns in `X`.  \n",
        "We have excluded column 0 above (the intercept), which is not of interest. In this case the VIFs are not that exciting.\n",
        "\n",
        "The object `vals` above could have been constructed with the following for loop:"
      ]
    },
    {
      "cell_type": "code",
      "execution_count": null,
      "id": "ea1c88e9",
      "metadata": {
        "execution": {},
        "lines_to_next_cell": 0,
        "id": "ea1c88e9"
      },
      "outputs": [],
      "source": [
        "vals = []\n",
        "for i in range(1, X.values.shape[1]):\n",
        "    vals.append(VIF(X.values, i))\n"
      ]
    },
    {
      "cell_type": "markdown",
      "id": "18fb24e5",
      "metadata": {
        "id": "18fb24e5"
      },
      "source": [
        "List comprehension allows us to perform such repetitive operations in a more straightforward way.\n",
        "## Interaction Terms\n",
        "It is easy to include interaction terms in a linear model using `ModelSpec()`.\n",
        "Including a tuple `(\"lstat\",\"age\")` tells the model\n",
        "matrix builder to include an interaction term between\n",
        " `lstat`  and  `age`."
      ]
    },
    {
      "cell_type": "code",
      "execution_count": null,
      "id": "e9ff159c",
      "metadata": {
        "execution": {},
        "lines_to_next_cell": 2,
        "id": "e9ff159c"
      },
      "outputs": [],
      "source": [
        "X = MS(['lstat',\n",
        "        'age',\n",
        "        ('lstat', 'age')]).fit_transform(Boston)\n",
        "model2 = sm.OLS(y, X)\n",
        "summarize(model2.fit())\n"
      ]
    },
    {
      "cell_type": "markdown",
      "id": "92604d18",
      "metadata": {
        "id": "92604d18"
      },
      "source": [
        "## Non-linear Transformations of the Predictors\n",
        "The model matrix builder can include terms beyond\n",
        "just column names and interactions. For instance,\n",
        "the `poly()` function supplied in `ISLP` specifies that\n",
        "columns representing polynomial functions\n",
        "of its first argument are added to the model matrix."
      ]
    },
    {
      "cell_type": "code",
      "execution_count": null,
      "id": "c98f54b2",
      "metadata": {
        "execution": {},
        "lines_to_next_cell": 0,
        "id": "c98f54b2"
      },
      "outputs": [],
      "source": [
        "X = MS([poly('lstat', degree=2), 'age']).fit_transform(Boston)\n",
        "model3 = sm.OLS(y, X)\n",
        "results3 = model3.fit()\n",
        "summarize(results3)\n"
      ]
    },
    {
      "cell_type": "markdown",
      "id": "ccc11d8c",
      "metadata": {
        "id": "ccc11d8c"
      },
      "source": [
        "The effectively zero *p*-value associated with the quadratic term\n",
        "(i.e. the third row above) suggests that it leads to an improved model.\n",
        "\n",
        "By default, `poly()` creates a basis matrix for inclusion in the\n",
        "model matrix whose\n",
        "columns are *orthogonal polynomials*, which are designed for stable\n",
        "least squares computations. {Actually, `poly()` is a  wrapper for the workhorse and standalone  function `Poly()` that does the  work in building the model matrix.}\n",
        "Alternatively, had we included an argument\n",
        "`raw=True` in the above call to `poly()`, the basis matrix would consist simply of\n",
        "`lstat` and `lstat**2`. Since either of these bases\n",
        "represent quadratic polynomials, the fitted values  would not\n",
        "change in this case, just the polynomial coefficients.  Also by default, the columns\n",
        "created by `poly()` do not include an intercept column as\n",
        "that is automatically added by `MS()`.\n",
        "\n",
        "We use the `anova_lm()` function to further quantify the extent to which the quadratic fit is\n",
        "superior to the linear fit."
      ]
    },
    {
      "cell_type": "code",
      "execution_count": null,
      "id": "53065cac",
      "metadata": {
        "execution": {},
        "lines_to_next_cell": 0,
        "id": "53065cac"
      },
      "outputs": [],
      "source": [
        "anova_lm(results1, results3)\n"
      ]
    },
    {
      "cell_type": "markdown",
      "id": "c0696dc2",
      "metadata": {
        "id": "c0696dc2"
      },
      "source": [
        "Here `results1` represents the linear submodel containing\n",
        "predictors `lstat` and `age`,\n",
        "while `results3` corresponds to the larger model above  with a quadratic\n",
        "term in `lstat`.\n",
        "The `anova_lm()` function performs a hypothesis test\n",
        "comparing the two models. The null hypothesis is that the quadratic\n",
        "term in the bigger model is not needed, and the alternative hypothesis is that the\n",
        "bigger model is superior. Here the *F*-statistic is 177.28 and\n",
        "the associated *p*-value is zero.\n",
        "In this case the *F*-statistic is the square of the\n",
        "*t*-statistic for the quadratic term in the linear model summary\n",
        "for `results3` --- a consequence of the fact that these nested\n",
        "models differ by one degree of freedom.\n",
        "This provides very clear evidence that the quadratic polynomial in\n",
        "`lstat` improves the linear model.\n",
        "This is not surprising, since earlier we saw evidence for non-linearity in the relationship between `medv`\n",
        "and  `lstat`.\n",
        "\n",
        "The function `anova_lm()` can take more than two nested models\n",
        "as input, in which case it compares every successive pair of models.\n",
        "That also explains why their are `NaN`s in the first row above, since\n",
        "there is no previous model with which to compare the first.\n"
      ]
    },
    {
      "cell_type": "code",
      "execution_count": null,
      "id": "8c654809",
      "metadata": {
        "execution": {},
        "lines_to_next_cell": 0,
        "id": "8c654809"
      },
      "outputs": [],
      "source": [
        "ax = subplots(figsize=(8,8))[1]\n",
        "ax.scatter(results3.fittedvalues, results3.resid)\n",
        "ax.set_xlabel('Fitted value')\n",
        "ax.set_ylabel('Residual')\n",
        "ax.axhline(0, c='k', ls='--')\n"
      ]
    },
    {
      "cell_type": "markdown",
      "id": "f79b542d",
      "metadata": {
        "id": "f79b542d"
      },
      "source": [
        "We see that when the quadratic term is included in the model,\n",
        "there is little discernible pattern in the residuals.\n",
        "In order to create a cubic or higher-degree polynomial fit, we can simply change the degree argument\n",
        "to `poly()`.\n"
      ]
    },
    {
      "cell_type": "markdown",
      "id": "6123a191",
      "metadata": {
        "id": "6123a191"
      },
      "source": [
        "## Qualitative Predictors\n",
        "Here we use the  `Carseats`  data, which is included in the\n",
        "`ISLP` package. We will  attempt to predict `Sales`\n",
        "(child car seat sales) in 400 locations based on a number of\n",
        "predictors."
      ]
    },
    {
      "cell_type": "code",
      "execution_count": null,
      "id": "2182f0ec",
      "metadata": {
        "execution": {},
        "lines_to_next_cell": 0,
        "id": "2182f0ec"
      },
      "outputs": [],
      "source": [
        "Carseats = load_data('Carseats')\n",
        "Carseats.columns\n"
      ]
    },
    {
      "cell_type": "markdown",
      "id": "66672403",
      "metadata": {
        "id": "66672403"
      },
      "source": [
        "The `Carseats`  \n",
        " data includes qualitative predictors such as\n",
        " `ShelveLoc`, an indicator of the quality of the shelving\n",
        " location --- that is,\n",
        "the  space within a store in which the car seat is displayed. The predictor\n",
        " `ShelveLoc`  takes on three possible values, `Bad`, `Medium`, and `Good`.\n",
        "Given a qualitative variable such as  `ShelveLoc`, `ModelSpec()` generates dummy\n",
        "variables automatically.\n",
        "These variables are often referred to as a *one-hot encoding* of the categorical\n",
        "feature. Their columns sum to one, so to avoid collinearity with an intercept, the first column is dropped. Below we see\n",
        "the column `ShelveLoc[Bad]` has been dropped, since `Bad` is the first level of `ShelveLoc`.\n",
        "Below we fit a multiple regression model that includes some interaction terms."
      ]
    },
    {
      "cell_type": "code",
      "execution_count": null,
      "id": "d614fdcb",
      "metadata": {
        "execution": {},
        "lines_to_next_cell": 0,
        "id": "d614fdcb"
      },
      "outputs": [],
      "source": [
        "allvars = list(Carseats.columns.drop('Sales'))\n",
        "y = Carseats['Sales']\n",
        "final = allvars + [('Income', 'Advertising'),\n",
        "                   ('Price', 'Age')]\n",
        "X = MS(final).fit_transform(Carseats)\n",
        "model = sm.OLS(y, X)\n",
        "summarize(model.fit())\n"
      ]
    },
    {
      "cell_type": "markdown",
      "id": "2402763b",
      "metadata": {
        "id": "2402763b"
      },
      "source": [
        "In the first line above, we made `allvars` a list, so that we\n",
        "could add the interaction terms two lines down.\n",
        "Our model-matrix builder has created a `ShelveLoc[Good]`\n",
        "dummy variable that takes on a value of 1 if the\n",
        "shelving location is good, and 0 otherwise. It has also created a `ShelveLoc[Medium]`\n",
        "dummy variable that equals 1 if the shelving location is medium, and 0 otherwise.\n",
        "A bad shelving location corresponds to a zero for each of the two dummy variables.\n",
        "The fact that the coefficient for `ShelveLoc[Good]` in the regression output is\n",
        "positive indicates that a good shelving location is associated with high sales (relative to a bad location).\n",
        "And `ShelveLoc[Medium]` has a smaller positive coefficient,\n",
        "indicating that a medium shelving location leads to higher sales than a bad\n",
        "shelving location, but lower sales than a good shelving location.\n",
        "\n"
      ]
    }
  ],
  "metadata": {
    "jupytext": {
      "cell_metadata_filter": "-all",
      "formats": "Rmd,ipynb",
      "main_language": "python"
    },
    "language_info": {
      "name": "python"
    },
    "colab": {
      "provenance": [],
      "include_colab_link": true
    },
    "kernelspec": {
      "name": "python3",
      "display_name": "Python 3"
    }
  },
  "nbformat": 4,
  "nbformat_minor": 5
}